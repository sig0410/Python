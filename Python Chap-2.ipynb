{
 "cells": [
  {
   "cell_type": "markdown",
   "metadata": {},
   "source": [
    "### 문자열"
   ]
  },
  {
   "cell_type": "code",
   "execution_count": 1,
   "metadata": {},
   "outputs": [
    {
     "name": "stdout",
     "output_type": "stream",
     "text": [
      "변경 전 :     새우깡은 진짜 맛있어!      \n",
      "변경 후 : 감자깡은 진짜 맛있어!\n"
     ]
    }
   ],
   "source": [
    "txt = '    새우깡은 진짜 맛있어!      '\n",
    "print('변경 전 :',txt)\n",
    "txt = (txt.replace('새우깡', '감자깡')).strip()\n",
    "print('변경 후 :',txt)"
   ]
  },
  {
   "cell_type": "markdown",
   "metadata": {},
   "source": [
    "### 조건문 (If)\n",
    "##### 조건에 맞으면 실행을 하게 되며 콜론(:)을 사용해야하고 들여쓰기를 사용해야함"
   ]
  },
  {
   "cell_type": "code",
   "execution_count": 2,
   "metadata": {},
   "outputs": [
    {
     "name": "stdout",
     "output_type": "stream",
     "text": [
      "이름은?sdsd\n"
     ]
    }
   ],
   "source": [
    "name = input('이름은?')\n",
    "if name == '홍길동':\n",
    "    print('남자')\n",
    "    print('활빈당 총수.')"
   ]
  },
  {
   "cell_type": "code",
   "execution_count": 3,
   "metadata": {},
   "outputs": [
    {
     "name": "stdout",
     "output_type": "stream",
     "text": [
      "숫자를 입력30\n",
      "900\n"
     ]
    }
   ],
   "source": [
    "no1 = int(input(\"숫자를 입력\"))\n",
    "if no1%3 == 0:\n",
    "    print(no1**2)\n",
    "else:\n",
    "    print(0)"
   ]
  },
  {
   "cell_type": "code",
   "execution_count": 4,
   "metadata": {},
   "outputs": [
    {
     "name": "stdout",
     "output_type": "stream",
     "text": [
      "어떤 과일을 좋아하세요?\n",
      "과일 입력:사과\n",
      "Good\n"
     ]
    }
   ],
   "source": [
    "print('어떤 과일을 좋아하세요?')\n",
    "\n",
    "fruit = input('과일 입력:')\n",
    "if fruit == '사과':\n",
    "    print('Good')\n",
    "elif fruit == '감':\n",
    "    print('Very Good')\n",
    "elif fruit == '귤':\n",
    "    print('So So...')\n",
    "else:\n",
    "    print('사과, 감, 귤 중에서 하나를 입력하세요')"
   ]
  },
  {
   "cell_type": "code",
   "execution_count": 5,
   "metadata": {},
   "outputs": [
    {
     "name": "stdout",
     "output_type": "stream",
     "text": [
      "어떤 과일을 좋아하세요?\n",
      "과일 입력:사과\n",
      "Very Good\n"
     ]
    }
   ],
   "source": [
    "print('어떤 과일을 좋아하세요?')\n",
    "\n",
    "fruit = input('과일 입력:')\n",
    "if fruit == '사과' or fruit == '감':\n",
    "    print('Very Good')\n",
    "elif fruit == '귤' or fruit == '복숭아':\n",
    "    print('Good')\n",
    "else:\n",
    "    print('사과, 감, 귤 중에서 하나를 입력하세요')"
   ]
  },
  {
   "cell_type": "code",
   "execution_count": 6,
   "metadata": {},
   "outputs": [
    {
     "name": "stdout",
     "output_type": "stream",
     "text": [
      "1. 짜장면 : 5000원 2. 짬뽕 : 6000원 3. 군만두 : 8000원 4. 탕수육 : 10000원\n",
      "위 메뉴 중 주문할 메뉴의 번호를 쓰시오.2\n",
      "위 메뉴의 주문 수량을 쓰시오.4\n",
      "주문하신 메뉴는 2이고 주문수량은 4 그릇이며 주문금액은 24000이다\n"
     ]
    }
   ],
   "source": [
    "print(\"1. 짜장면 : 5000원 2. 짬뽕 : 6000원 3. 군만두 : 8000원 4. 탕수육 : 10000원\")\n",
    "\n",
    "a = int(input('위 메뉴 중 주문할 메뉴의 번호를 쓰시오.'))\n",
    "b = int(input('위 메뉴의 주문 수량을 쓰시오.'))\n",
    "\n",
    "if a == 1:\n",
    "    a1 = b*5000\n",
    "    print('주문하신 메뉴는 %s이고 주문수량은 %s 그릇이며 주문금액은 %d이다' %(a,b,a1))\n",
    "elif a == 2:\n",
    "    a2 = b*6000\n",
    "    print('주문하신 메뉴는 %s이고 주문수량은 %s 그릇이며 주문금액은 %d이다' %(a,b,a2))\n",
    "elif a == 3:\n",
    "    a3 = b*8000\n",
    "    print('주문하신 메뉴는 %s이고 주문수량은 %s 그릇이며 주문금액은 %d이다' %(a,b,a3))\n",
    "elif a == 4:\n",
    "    a4 = b*10000\n",
    "    print('주문하신 메뉴는 %s이고 주문수량은 %s 그릇이며 주문금액은 %d이다' %(a,b,a4))"
   ]
  },
  {
   "cell_type": "markdown",
   "metadata": {},
   "source": [
    "### For"
   ]
  },
  {
   "cell_type": "code",
   "execution_count": 9,
   "metadata": {},
   "outputs": [
    {
     "name": "stdout",
     "output_type": "stream",
     "text": [
      "숫자를 입력하세요3\n",
      "3 의 구구단 :  3 * 1 = 3\n",
      "3 의 구구단 :  3 * 2 = 6\n",
      "3 의 구구단 :  3 * 3 = 9\n",
      "3 의 구구단 :  3 * 4 = 12\n",
      "3 의 구구단 :  3 * 5 = 15\n",
      "3 의 구구단 :  3 * 6 = 18\n",
      "3 의 구구단 :  3 * 7 = 21\n",
      "3 의 구구단 :  3 * 8 = 24\n",
      "3 의 구구단 :  3 * 9 = 27\n"
     ]
    }
   ],
   "source": [
    "a = int(input('숫자를 입력하세요'))\n",
    "for i in range(1,10):\n",
    "    a1 = a * i \n",
    "    print(a,'의 구구단 : ',a ,'*', i ,'=', a1)"
   ]
  },
  {
   "cell_type": "code",
   "execution_count": 12,
   "metadata": {
    "scrolled": true
   },
   "outputs": [
    {
     "name": "stdout",
     "output_type": "stream",
     "text": [
      "숫자를 입력하세용20\n",
      "2\n",
      "4\n",
      "6\n",
      "8\n",
      "10\n",
      "12\n",
      "14\n",
      "16\n",
      "18\n",
      "20\n"
     ]
    }
   ],
   "source": [
    "a = int(input(\"숫자를 입력하세용\"))\n",
    "for i in range(1,a+1):\n",
    "    if i%2 == 0:\n",
    "        print(i)"
   ]
  },
  {
   "cell_type": "code",
   "execution_count": 13,
   "metadata": {},
   "outputs": [
    {
     "name": "stdout",
     "output_type": "stream",
     "text": [
      "현재 이 과목의 최종 수강 신청자는 ['홍길동', '일지매', '유관순']입니다\n",
      "변경 전 이름을 입력하세요홍길동\n",
      "변경 후 이름을 입력하세요전우치\n",
      "요청하신 대로 홍길동을 전우치로 변경하였습니다. ['전우치', '일지매', '유관순']\n"
     ]
    }
   ],
   "source": [
    "stu2 = ['홍길동', '일지매', '유관순']\n",
    "print('현재 이 과목의 최종 수강 신청자는 %s입니다' %stu2)\n",
    "\n",
    "a = input('변경 전 이름을 입력하세요')\n",
    "b = input('변경 후 이름을 입력하세요')\n",
    "\n",
    "stu3 = []\n",
    "for i in stu2:\n",
    "    i = i.replace('홍길동', '전우치')\n",
    "    stu3.append(i)\n",
    "print('요청하신 대로 %s을 %s로 변경하였습니다. %s' %(a,b, stu3))"
   ]
  },
  {
   "cell_type": "code",
   "execution_count": 14,
   "metadata": {},
   "outputs": [
    {
     "name": "stdout",
     "output_type": "stream",
     "text": [
      "\n",
      "\n",
      "1의 페이지의 1번글입니다.\n",
      "1의 페이지의 2번글입니다.\n",
      "1의 페이지의 3번글입니다.\n",
      "1의 페이지의 4번글입니다.\n",
      "1의 페이지의 5번글입니다.\n",
      "\n",
      "\n",
      "2의 페이지의 1번글입니다.\n",
      "2의 페이지의 2번글입니다.\n",
      "2의 페이지의 3번글입니다.\n",
      "2의 페이지의 4번글입니다.\n",
      "2의 페이지의 5번글입니다.\n",
      "\n",
      "\n",
      "3의 페이지의 1번글입니다.\n",
      "3의 페이지의 2번글입니다.\n",
      "3의 페이지의 3번글입니다.\n",
      "3의 페이지의 4번글입니다.\n",
      "3의 페이지의 5번글입니다.\n"
     ]
    }
   ],
   "source": [
    "p_n = [1,2,3]\n",
    "t_n = [1,2,3,4,5]\n",
    "for i in p_n:\n",
    "    print('\\n')\n",
    "    for r in t_n:\n",
    "        print('%d의 페이지의 %d번글입니다.' %(i,r))"
   ]
  },
  {
   "cell_type": "code",
   "execution_count": 15,
   "metadata": {
    "scrolled": true
   },
   "outputs": [
    {
     "name": "stdout",
     "output_type": "stream",
     "text": [
      "==========\n",
      "1반반 : 홍길동\n",
      "1반반 : 일지매\n",
      "1반반 : 전우치\n",
      "==========\n",
      "2반반 : 유관순\n",
      "2반반 : 신사임당\n",
      "2반반 : 어우동\n",
      "==========\n",
      "3반반 : 강감찬\n",
      "3반반 : 광개토대왕\n",
      "3반반 : 김구\n"
     ]
    }
   ],
   "source": [
    "c_n = ['1반', '2반','3반']\n",
    "n1 = ['홍길동', '일지매', '전우치']\n",
    "n2 = ['유관순', '신사임당', '어우동']\n",
    "n3 = ['강감찬', '광개토대왕', '김구']\n",
    "\n",
    "for i in c_n:\n",
    "    print('==========')\n",
    "    if i == '1반':\n",
    "        for j in n1:\n",
    "            print(\"%s반 : %s\" %(i, j))\n",
    "    if i == '2반':\n",
    "        for j in n2:\n",
    "            print(\"%s반 : %s\" %(i, j))\n",
    "    if i == '3반':\n",
    "        for j in n3:\n",
    "            print(\"%s반 : %s\" %(i, j))\n",
    "            \n",
    "#이거 못풀었음 "
   ]
  },
  {
   "cell_type": "markdown",
   "metadata": {},
   "source": [
    "### While"
   ]
  },
  {
   "cell_type": "code",
   "execution_count": 16,
   "metadata": {
    "scrolled": true
   },
   "outputs": [
    {
     "name": "stdout",
     "output_type": "stream",
     "text": [
      "1\n",
      "3\n",
      "5\n",
      "7\n"
     ]
    }
   ],
   "source": [
    "no1 = 1\n",
    "while no1 <9:\n",
    "    print(no1)\n",
    "    no1 +=2"
   ]
  },
  {
   "cell_type": "code",
   "execution_count": 18,
   "metadata": {},
   "outputs": [
    {
     "name": "stdout",
     "output_type": "stream",
     "text": [
      "1. 짜장면 : 5000원 2. 짬뽕 : 6000원 3. 군만두 : 8000원 4. 탕수육 : 10000원\n",
      "위 메뉴 중 주문할 메뉴의 번호를 쓰시오.2\n",
      "위 메뉴의 주문 수량을 쓰시오.4\n",
      "주문하신 메뉴는 2이고 주문수량은 4 그릇이며 주문금액은 24000이며 추가 주문 가능횟수가 3회입니다.\n",
      "추가 주문을 하시겠습니까? (Y/N)Y\n",
      "1. 짜장면 : 5000원 2. 짬뽕 : 6000원 3. 군만두 : 8000원 4. 탕수육 : 10000원\n",
      "위 메뉴 중 주문할 메뉴의 번호를 쓰시오.2\n"
     ]
    }
   ],
   "source": [
    "print(\"1. 짜장면 : 5000원 2. 짬뽕 : 6000원 3. 군만두 : 8000원 4. 탕수육 : 10000원\")\n",
    "\n",
    "a = int(input('위 메뉴 중 주문할 메뉴의 번호를 쓰시오.'))\n",
    "b = int(input('위 메뉴의 주문 수량을 쓰시오.'))\n",
    "\n",
    "if a == 1:\n",
    "    a1 = b*5000\n",
    "    print('주문하신 메뉴는 %s이고 주문수량은 %s 그릇이며 주문금액은 %d이며 추가 주문 가능횟수가 3회입니다.' %(a,b,a1))\n",
    "elif a == 2:\n",
    "    a2 = b*6000\n",
    "    print('주문하신 메뉴는 %s이고 주문수량은 %s 그릇이며 주문금액은 %d이며 추가 주문 가능횟수가 3회입니다.' %(a,b,a2))\n",
    "elif a == 3:\n",
    "    a3 = b*8000\n",
    "    print('주문하신 메뉴는 %s이고 주문수량은 %s 그릇이며 주문금액은 %d이며 추가 주문 가능횟수가 3회입니다.' %(a,b,a3))\n",
    "elif a == 4:\n",
    "    a4 = b*10000\n",
    "    print('주문하신 메뉴는 %s이고 주문수량은 %s 그릇이며 주문금액은 %d이며 추가 주문 가능횟수가 3회입니다.' %(a,b,a4))\n",
    "c = input('추가 주문을 하시겠습니까? (Y/N)')\n",
    "while c == 'Y' or c == 'y':\n",
    "    print(\"1. 짜장면 : 5000원 2. 짬뽕 : 6000원 3. 군만두 : 8000원 4. 탕수육 : 10000원\")\n",
    "    input('위 메뉴 중 주문할 메뉴의 번호를 쓰시오.')\n",
    "    break"
   ]
  },
  {
   "cell_type": "code",
   "execution_count": 20,
   "metadata": {},
   "outputs": [
    {
     "name": "stdout",
     "output_type": "stream",
     "text": [
      "1. 짜장면 : 5000원 2. 짬뽕 : 6000원 3. 군만두 : 8000원 4. 탕수육 : 10000원\n",
      "위 메뉴 중 주문할 메뉴의 번호를 쓰시오.\n",
      "2\n",
      "위 메뉴의 주문 수량을 쓰시오.\n",
      "4\n",
      "주문하신 메뉴는 2이고 주문수량은 4 그릇이며 주문금액은 24000이며 추가 주문 가능횟수가 3회입니다.\n",
      "\n",
      "추가 주문을 하시겠습니까? (Y/N)Y\n",
      "주문 횟수는 :  1\n",
      "1. 짜장면 : 5000원 2. 짬뽕 : 6000원 3. 군만두 : 8000원 4. 탕수육 : 10000원\n",
      "위 메뉴 중 주문할 메뉴의 번호를 쓰시오.\n",
      "2\n",
      "위 메뉴의 주문 수량을 쓰시오.\n",
      "4\n",
      "주문하신 메뉴는 2이고 주문수량은 4 그릇이며 주문금액은 24000입니다.\n",
      "\n",
      "주문 횟수는 :  2\n",
      "1. 짜장면 : 5000원 2. 짬뽕 : 6000원 3. 군만두 : 8000원 4. 탕수육 : 10000원\n",
      "위 메뉴 중 주문할 메뉴의 번호를 쓰시오.\n",
      "2\n",
      "위 메뉴의 주문 수량을 쓰시오.\n",
      "4\n",
      "주문하신 메뉴는 2이고 주문수량은 4 그릇이며 주문금액은 24000입니다.\n",
      "\n",
      "주문 횟수는 :  3\n",
      "1. 짜장면 : 5000원 2. 짬뽕 : 6000원 3. 군만두 : 8000원 4. 탕수육 : 10000원\n",
      "위 메뉴 중 주문할 메뉴의 번호를 쓰시오.\n",
      "2\n",
      "위 메뉴의 주문 수량을 쓰시오.\n",
      "4\n",
      "주문하신 메뉴는 2이고 주문수량은 4 그릇이며 주문금액은 24000입니다.\n",
      "\n",
      "주문 횟수는 :  4\n",
      "추가 주문 횟수는 없습니다\n",
      "\n"
     ]
    }
   ],
   "source": [
    "print(\"1. 짜장면 : 5000원 2. 짬뽕 : 6000원 3. 군만두 : 8000원 4. 탕수육 : 10000원\")\n",
    "\n",
    "a = int(input('위 메뉴 중 주문할 메뉴의 번호를 쓰시오.\\n'))\n",
    "b = int(input('위 메뉴의 주문 수량을 쓰시오.\\n'))\n",
    "\n",
    "if a == 1:\n",
    "    a1 = b*5000\n",
    "    print('주문하신 메뉴는 %s이고 주문수량은 %s 그릇이며 주문금액은 %d이며 추가 주문 가능횟수가 3회입니다.\\n' %(a,b,a1))\n",
    "elif a == 2:\n",
    "    a2 = b*6000\n",
    "    print('주문하신 메뉴는 %s이고 주문수량은 %s 그릇이며 주문금액은 %d이며 추가 주문 가능횟수가 3회입니다.\\n' %(a,b,a2))\n",
    "elif a == 3:\n",
    "    a3 = b*8000\n",
    "    print('주문하신 메뉴는 %s이고 주문수량은 %s 그릇이며 주문금액은 %d이며 추가 주문 가능횟수가 3회입니다.\\n' %(a,b,a3))\n",
    "elif a == 4:\n",
    "    a4 = b*10000\n",
    "    print('주문하신 메뉴는 %s이고 주문수량은 %s 그릇이며 주문금액은 %d이며 추가 주문 가능횟수가 3회입니다.\\n' %(a,b,a4))\n",
    "    \n",
    "c = input('추가 주문을 하시겠습니까? (Y/N)')\n",
    "count = 0\n",
    "\n",
    "if c == 'Y' or c == 'y':\n",
    "    while count < 4:\n",
    "        count += 1\n",
    "        print(\"주문 횟수는 : \", count)\n",
    "        if count == 4 :\n",
    "            print('추가 주문 횟수는 없습니다\\n')\n",
    "            break\n",
    "            \n",
    "        print(\"1. 짜장면 : 5000원 2. 짬뽕 : 6000원 3. 군만두 : 8000원 4. 탕수육 : 10000원\")\n",
    "        d = int(input('위 메뉴 중 주문할 메뉴의 번호를 쓰시오.\\n'))\n",
    "        f = int(input('위 메뉴의 주문 수량을 쓰시오.\\n'))\n",
    "        if d == 1:\n",
    "            d1 = f*5000\n",
    "            print('주문하신 메뉴는 %s이고 주문수량은 %d 그릇이며 주문금액은 %d입니다.\\n' %(d,f,d1))\n",
    "        elif d == 2:\n",
    "            d2 = f*6000\n",
    "            print('주문하신 메뉴는 %s이고 주문수량은 %d 그릇이며 주문금액은 %d입니다.\\n' %(d,f,d2))\n",
    "        elif d == 3:\n",
    "            d3 = f*8000\n",
    "            print('주문하신 메뉴는 %s이고 주문수량은 %d 그릇이며 주문금액은 %d입니다.\\n' %(d,f,d3))\n",
    "        elif d == 4:\n",
    "            d4 = f*10000\n",
    "            print('주문하신 메뉴는 %s이고 주문수량은 %d 그릇이며 주문금액은 %d입니다.\\n' %(d,f,d4))\n",
    "    "
   ]
  },
  {
   "cell_type": "code",
   "execution_count": 35,
   "metadata": {},
   "outputs": [
    {
     "name": "stdout",
     "output_type": "stream",
     "text": [
      "10\n",
      "70\n",
      "60\n"
     ]
    }
   ],
   "source": [
    "def c():\n",
    "    a = int(input())\n",
    "    b = int(input())\n",
    "    \n",
    "    if a > b :\n",
    "        c = a - b\n",
    "    elif a < b :\n",
    "        c = b - a\n",
    "        \n",
    "    return c \n",
    "\n",
    "print(c())"
   ]
  },
  {
   "cell_type": "code",
   "execution_count": 23,
   "metadata": {},
   "outputs": [
    {
     "data": {
      "text/plain": [
       "'입력하신 숫자의 합은 22 이다.'"
      ]
     },
     "execution_count": 23,
     "metadata": {},
     "output_type": "execute_result"
    }
   ],
   "source": [
    "def p(*x):\n",
    "    h = 0\n",
    "    for i in x:\n",
    "        h += i\n",
    "    return('입력하신 숫자의 합은 %s 이다.' %h)\n",
    "p(2,4,6,3,2,1,4)"
   ]
  },
  {
   "cell_type": "code",
   "execution_count": 24,
   "metadata": {},
   "outputs": [
    {
     "name": "stdout",
     "output_type": "stream",
     "text": [
      "235\n"
     ]
    }
   ],
   "source": [
    "def Max(*x):\n",
    "    a = 0\n",
    "    for i in x: \n",
    "        if i > a:\n",
    "            a=i\n",
    "    return print(a)\n",
    "Max(3,4,13,3,1,0,235)"
   ]
  },
  {
   "cell_type": "code",
   "execution_count": 25,
   "metadata": {},
   "outputs": [
    {
     "data": {
      "text/plain": [
       "1000"
      ]
     },
     "execution_count": 25,
     "metadata": {},
     "output_type": "execute_result"
    }
   ],
   "source": [
    "def Sum(*x):\n",
    "    sum = 0\n",
    "    for i in x:\n",
    "        sum += i\n",
    "    return(sum)\n",
    "Sum(100,200,300,400)"
   ]
  },
  {
   "cell_type": "code",
   "execution_count": 26,
   "metadata": {},
   "outputs": [
    {
     "data": {
      "text/plain": [
       "900"
      ]
     },
     "execution_count": 26,
     "metadata": {},
     "output_type": "execute_result"
    }
   ],
   "source": [
    "def R(*x):\n",
    "    m = x[0]\n",
    "    s = x[0]\n",
    "    for i in x:\n",
    "        if i > m:\n",
    "            m = i\n",
    "    for r in x:\n",
    "        if r < s:\n",
    "            s = r\n",
    "    return(m-s)\n",
    "R(100,700,300,200,1000)"
   ]
  },
  {
   "cell_type": "markdown",
   "metadata": {},
   "source": [
    "### 모듈 \n",
    "##### 확장자를 py로 저장해야한다\n",
    "##### 모듈을 불러올때는 import를 사용하여 불러올 수 있음"
   ]
  },
  {
   "cell_type": "markdown",
   "metadata": {},
   "source": [
    "1. 내장모듈 : 설치하지 않아도 자동으로 설치되어 있는 모듈 \n",
    "2. 외장모듈 : 설치가 되지 않아 사용자가 직접 설치해야 하는 모듈 "
   ]
  }
 ],
 "metadata": {
  "kernelspec": {
   "display_name": "Python 3",
   "language": "python",
   "name": "python3"
  },
  "language_info": {
   "codemirror_mode": {
    "name": "ipython",
    "version": 3
   },
   "file_extension": ".py",
   "mimetype": "text/x-python",
   "name": "python",
   "nbconvert_exporter": "python",
   "pygments_lexer": "ipython3",
   "version": "3.7.4"
  }
 },
 "nbformat": 4,
 "nbformat_minor": 2
}
